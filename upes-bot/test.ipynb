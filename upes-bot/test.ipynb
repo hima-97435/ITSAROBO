{
 "cells": [
  {
   "cell_type": "code",
   "execution_count": 1,
   "id": "6e796b7c",
   "metadata": {},
   "outputs": [
    {
     "name": "stdout",
     "output_type": "stream",
     "text": [
      "Requirement already satisfied: requests in c:\\users\\himanshu\\appdata\\local\\programs\\python\\python312\\lib\\site-packages (2.32.4)\n",
      "Requirement already satisfied: beautifulsoup4 in c:\\users\\himanshu\\appdata\\local\\programs\\python\\python312\\lib\\site-packages (4.13.4)\n",
      "Requirement already satisfied: sentence-transformers in c:\\users\\himanshu\\appdata\\local\\programs\\python\\python312\\lib\\site-packages (4.1.0)\n",
      "Requirement already satisfied: charset_normalizer<4,>=2 in c:\\users\\himanshu\\appdata\\local\\programs\\python\\python312\\lib\\site-packages (from requests) (3.4.2)\n",
      "Requirement already satisfied: idna<4,>=2.5 in c:\\users\\himanshu\\appdata\\local\\programs\\python\\python312\\lib\\site-packages (from requests) (3.10)\n",
      "Requirement already satisfied: urllib3<3,>=1.21.1 in c:\\users\\himanshu\\appdata\\local\\programs\\python\\python312\\lib\\site-packages (from requests) (2.4.0)\n",
      "Requirement already satisfied: certifi>=2017.4.17 in c:\\users\\himanshu\\appdata\\local\\programs\\python\\python312\\lib\\site-packages (from requests) (2025.6.15)\n",
      "Requirement already satisfied: soupsieve>1.2 in c:\\users\\himanshu\\appdata\\local\\programs\\python\\python312\\lib\\site-packages (from beautifulsoup4) (2.7)\n",
      "Requirement already satisfied: typing-extensions>=4.0.0 in c:\\users\\himanshu\\appdata\\local\\programs\\python\\python312\\lib\\site-packages (from beautifulsoup4) (4.14.0)\n",
      "Requirement already satisfied: transformers<5.0.0,>=4.41.0 in c:\\users\\himanshu\\appdata\\local\\programs\\python\\python312\\lib\\site-packages (from sentence-transformers) (4.52.4)\n",
      "Requirement already satisfied: tqdm in c:\\users\\himanshu\\appdata\\local\\programs\\python\\python312\\lib\\site-packages (from sentence-transformers) (4.67.1)\n",
      "Requirement already satisfied: torch>=1.11.0 in c:\\users\\himanshu\\appdata\\local\\programs\\python\\python312\\lib\\site-packages (from sentence-transformers) (2.7.1)\n",
      "Requirement already satisfied: scikit-learn in c:\\users\\himanshu\\appdata\\local\\programs\\python\\python312\\lib\\site-packages (from sentence-transformers) (1.7.0)\n",
      "Requirement already satisfied: scipy in c:\\users\\himanshu\\appdata\\local\\programs\\python\\python312\\lib\\site-packages (from sentence-transformers) (1.15.3)\n",
      "Requirement already satisfied: huggingface-hub>=0.20.0 in c:\\users\\himanshu\\appdata\\local\\programs\\python\\python312\\lib\\site-packages (from sentence-transformers) (0.33.0)\n",
      "Requirement already satisfied: Pillow in c:\\users\\himanshu\\appdata\\local\\programs\\python\\python312\\lib\\site-packages (from sentence-transformers) (11.2.1)\n",
      "Requirement already satisfied: filelock in c:\\users\\himanshu\\appdata\\local\\programs\\python\\python312\\lib\\site-packages (from transformers<5.0.0,>=4.41.0->sentence-transformers) (3.18.0)\n",
      "Requirement already satisfied: numpy>=1.17 in c:\\users\\himanshu\\appdata\\local\\programs\\python\\python312\\lib\\site-packages (from transformers<5.0.0,>=4.41.0->sentence-transformers) (2.3.0)\n",
      "Requirement already satisfied: packaging>=20.0 in c:\\users\\himanshu\\appdata\\roaming\\python\\python312\\site-packages (from transformers<5.0.0,>=4.41.0->sentence-transformers) (25.0)\n",
      "Requirement already satisfied: pyyaml>=5.1 in c:\\users\\himanshu\\appdata\\local\\programs\\python\\python312\\lib\\site-packages (from transformers<5.0.0,>=4.41.0->sentence-transformers) (6.0.2)\n",
      "Requirement already satisfied: regex!=2019.12.17 in c:\\users\\himanshu\\appdata\\local\\programs\\python\\python312\\lib\\site-packages (from transformers<5.0.0,>=4.41.0->sentence-transformers) (2024.11.6)\n",
      "Requirement already satisfied: tokenizers<0.22,>=0.21 in c:\\users\\himanshu\\appdata\\local\\programs\\python\\python312\\lib\\site-packages (from transformers<5.0.0,>=4.41.0->sentence-transformers) (0.21.1)\n",
      "Requirement already satisfied: safetensors>=0.4.3 in c:\\users\\himanshu\\appdata\\local\\programs\\python\\python312\\lib\\site-packages (from transformers<5.0.0,>=4.41.0->sentence-transformers) (0.5.3)\n",
      "Requirement already satisfied: fsspec>=2023.5.0 in c:\\users\\himanshu\\appdata\\local\\programs\\python\\python312\\lib\\site-packages (from huggingface-hub>=0.20.0->sentence-transformers) (2025.5.1)\n",
      "Requirement already satisfied: sympy>=1.13.3 in c:\\users\\himanshu\\appdata\\local\\programs\\python\\python312\\lib\\site-packages (from torch>=1.11.0->sentence-transformers) (1.14.0)\n",
      "Requirement already satisfied: networkx in c:\\users\\himanshu\\appdata\\local\\programs\\python\\python312\\lib\\site-packages (from torch>=1.11.0->sentence-transformers) (3.5)\n",
      "Requirement already satisfied: jinja2 in c:\\users\\himanshu\\appdata\\local\\programs\\python\\python312\\lib\\site-packages (from torch>=1.11.0->sentence-transformers) (3.1.6)\n",
      "Requirement already satisfied: setuptools in c:\\users\\himanshu\\appdata\\local\\programs\\python\\python312\\lib\\site-packages (from torch>=1.11.0->sentence-transformers) (80.9.0)\n",
      "Requirement already satisfied: mpmath<1.4,>=1.1.0 in c:\\users\\himanshu\\appdata\\local\\programs\\python\\python312\\lib\\site-packages (from sympy>=1.13.3->torch>=1.11.0->sentence-transformers) (1.3.0)\n",
      "Requirement already satisfied: colorama in c:\\users\\himanshu\\appdata\\roaming\\python\\python312\\site-packages (from tqdm->sentence-transformers) (0.4.6)\n",
      "Requirement already satisfied: MarkupSafe>=2.0 in c:\\users\\himanshu\\appdata\\local\\programs\\python\\python312\\lib\\site-packages (from jinja2->torch>=1.11.0->sentence-transformers) (3.0.2)\n",
      "Requirement already satisfied: joblib>=1.2.0 in c:\\users\\himanshu\\appdata\\local\\programs\\python\\python312\\lib\\site-packages (from scikit-learn->sentence-transformers) (1.5.1)\n",
      "Requirement already satisfied: threadpoolctl>=3.1.0 in c:\\users\\himanshu\\appdata\\local\\programs\\python\\python312\\lib\\site-packages (from scikit-learn->sentence-transformers) (3.6.0)\n"
     ]
    }
   ],
   "source": [
    "!pip install requests beautifulsoup4 sentence-transformers\n"
   ]
  },
  {
   "cell_type": "code",
   "execution_count": 2,
   "id": "719ad945",
   "metadata": {},
   "outputs": [],
   "source": [
    "OPENROUTER_API_KEY = \""  # Replace with your OpenRouter API key\n"
   ]
  },
  {
   "cell_type": "code",
   "execution_count": 3,
   "id": "3628ef09",
   "metadata": {},
   "outputs": [
    {
     "name": "stderr",
     "output_type": "stream",
     "text": [
      "c:\\Users\\Himanshu\\AppData\\Local\\Programs\\Python\\Python312\\Lib\\site-packages\\tqdm\\auto.py:21: TqdmWarning: IProgress not found. Please update jupyter and ipywidgets. See https://ipywidgets.readthedocs.io/en/stable/user_install.html\n",
      "  from .autonotebook import tqdm as notebook_tqdm\n"
     ]
    }
   ],
   "source": [
    "from sentence_transformers import SentenceTransformer\n",
    "import requests\n",
    "import numpy as np\n",
    "\n",
    "model = SentenceTransformer(\"all-MiniLM-L6-v2\")\n",
    "\n",
    "def search_and_rank(query, max_results=5):\n",
    "    url = \"http://localhost:8080/search\"\n",
    "    params = {\"q\": query, \"format\": \"json\", \"language\": \"en\"}\n",
    "    r = requests.get(url, params=params)\n",
    "    r.raise_for_status()\n",
    "    results = r.json().get(\"results\", [])[:max_results]\n",
    "\n",
    "    if not results:\n",
    "        print(\"⚠️ No search results found.\")\n",
    "        return None\n",
    "\n",
    "    # Filter out empty content\n",
    "    results = [r for r in results if r.get(\"content\")]\n",
    "    if not results:\n",
    "        print(\"⚠️ No usable content in search results.\")\n",
    "        return None\n",
    "\n",
    "    query_vec = model.encode([query])[0]\n",
    "    snippet_vecs = model.encode([r[\"content\"] for r in results])\n",
    "\n",
    "    sims = np.dot(snippet_vecs, query_vec) / (\n",
    "        np.linalg.norm(snippet_vecs, axis=1) * np.linalg.norm(query_vec)\n",
    "    )\n",
    "    best = results[int(np.argmax(sims))]\n",
    "    best[\"similarity\"] = float(np.max(sims))\n",
    "    return best\n",
    "\n"
   ]
  },
  {
   "cell_type": "code",
   "execution_count": 4,
   "id": "de670659",
   "metadata": {},
   "outputs": [],
   "source": [
    "from bs4 import BeautifulSoup\n",
    "\n",
    "def fetch_main_content(url):\n",
    "    try:\n",
    "        r = requests.get(url, timeout=10)\n",
    "        r.raise_for_status()\n",
    "        soup = BeautifulSoup(r.text, \"html.parser\")\n",
    "        main = soup.find(\"main\") or soup.find(\"article\") or soup.body\n",
    "        return main.get_text(separator=\"\\n\", strip=True)[:4000]\n",
    "    except Exception as e:\n",
    "        return f\"Failed to fetch: {e}\"\n"
   ]
  },
  {
   "cell_type": "code",
   "execution_count": 46,
   "id": "b3b349e7",
   "metadata": {},
   "outputs": [],
   "source": [
    "def summarize_with_openrouter(query, content, model=\"mistralai/mistral-small\"):\n",
    "    headers = {\n",
    "        \"Authorization\": f\"Bearer {OPENROUTER_API_KEY}\",\n",
    "        \"Content-Type\": \"application/json\"\n",
    "    }\n",
    "\n",
    "    payload = {\n",
    "        \"model\": model,\n",
    "        \"messages\": [\n",
    "            {\n",
    "                \"role\": \"system\",\n",
    "                \"content\": (\n",
    "                    \"You are a helpful, friendly chatbot assistant for UPES students. \"\n",
    "                    \"Your job is to answer student questions clearly, concisely, and conversationally. \"\n",
    "                    \"Use only the content provided. Do not add extra facts. \"\n",
    "                    \"Summarize the most relevant information to the query. \"\n",
    "                    \"If the content is too long, prioritize the part most relevant to the question. \"\n",
    "                    \"Avoid long lists or technical formatting unless necessary.\"\n",
    "                )\n",
    "            },\n",
    "            {\n",
    "                \"role\": \"user\",\n",
    "                \"content\": (\n",
    "                    f\"Student asked: {query}\\n\\n\"\n",
    "                    f\"Here is the content to answer from:\\n{content[:4000]}\"\n",
    "                )\n",
    "            }\n",
    "        ]\n",
    "    }\n",
    "\n",
    "    try:\n",
    "        response = requests.post(\n",
    "            \"https://openrouter.ai/api/v1/chat/completions\",\n",
    "            headers=headers,\n",
    "            json=payload\n",
    "        )\n",
    "        response.raise_for_status()\n",
    "        return response.json()[\"choices\"][0][\"message\"][\"content\"]\n",
    "    except Exception as e:\n",
    "        return f\"❌ Error from OpenRouter: {e}\"\n"
   ]
  },
  {
   "cell_type": "code",
   "execution_count": 36,
   "id": "63ee1c30",
   "metadata": {},
   "outputs": [
    {
     "name": "stdout",
     "output_type": "stream",
     "text": [
      "🔗 URL: https://www.upes.ac.in/admissions/btech\n",
      "\n",
      "🧠 Answer: The minimum JEE percentile for CSE admission in UPES is not explicitly stated in the provided content. However, it's important to note that UPES offers a B.Tech. in Electronics & Computer Engineering, but the specific JEE percentile required for admission is not mentioned. For the most accurate and up-to-date information, it would be best to contact the UPES admissions office directly.\n"
     ]
    }
   ],
   "source": [
    "query = \"What’s the minimum JEE percentile for CSE admission in UPES?\"\n",
    "best = search_and_rank(query)\n",
    "\n",
    "if not best:\n",
    "    print(\"❌ No good search result found.\")\n",
    "else:\n",
    "    print(\"🔗 URL:\", best[\"url\"])\n",
    "    content = fetch_main_content(best[\"url\"])\n",
    "    summary = summarize_with_openrouter(query, content)\n",
    "    print(\"\\n🧠 Answer:\", summary)\n"
   ]
  },
  {
   "cell_type": "code",
   "execution_count": 37,
   "id": "c7e0b40d",
   "metadata": {},
   "outputs": [
    {
     "name": "stdout",
     "output_type": "stream",
     "text": [
      "🔍 Query: Does UPES offer a B.Tech in Artificial Intelligence?\n",
      "🧠 Answer: Yes, UPES offers a B.Tech in Artificial Intelligence.\n",
      "🔗 Source: https://www.careers360.com/colleges/school-of-computer-science-upes-dehradun/btech-cse-hons-specialization-in-artificial-intelligence-and-machine-learning-course \n",
      "\n",
      "🔍 Query: What is the highest placement offered in UPES CSE?\n",
      "🧠 Answer: The highest placement offer in UPES Computer Science (CSE) for 2023-24 was LPA (Lakhs Per Annum).\n",
      "🔗 Source: https://www.upes.ac.in/placements/school-of-computer-science \n",
      "\n",
      "🔍 Query: Are there any cultural fests in UPES?\n",
      "🧠 Answer: Yes, there is a cultural fest in UPES called Spandan. It's an annual event that showcases a range of cultural activities like dance performances, music shows, street plays, and fashion shows. The 2024 edition, for example, also included sports events like cricket, volleyball, and basketball. Teams from different schools in UPES participate in these events. The fest aims to foster unity and excellence among students and faculty.\n",
      "🔗 Source: https://garhwalpost.in/upes-spandan-2024-fostering-unity-excellence-in-sports-and-culture/ \n",
      "\n",
      "🔍 Query: What are the hostel facilities like at UPES Kandoli campus?\n",
      "🧠 Answer: **UPES Kandoli Campus Hostel Facilities:**\n",
      "\n",
      "- **Rooms:** Clean, air-conditioned, with bed, mattress, study table, chair, lamps, shelves, almirah, windows, and good ventilation.\n",
      "  - **Girls:** Options with attached bathroom (INR 1,90,000) or air-conditioning (INR 2,10,000).\n",
      "- **Amenities:** Sports field, common areas, Wi-Fi, elevators, CCTV, daily room and bathroom cleaning, and proper sanitation with hygienic laundry services.\n",
      "- **Mess:** Provides three meals a day and evening snacks, including Indian dishes like roti, dal, vegetables, rice, and sweets.\n",
      "- **Health:** 24/7 residential doctor and medical assistant, in-house ambulance, COVID protocols, and UPES Care for psychological consultation.\n",
      "- **Safety:** Limited access for guests and staff, no visitors allowed, restricted family visits, e-check-in, and online self-declaration forms.\n",
      "- **Fees:** INR 1,80,000 per year for regular hostel rooms, with a refundable security deposit of INR 20,000.\n",
      "🔗 Source: https://www.shiksha.com/articles/hostel-facilities-at-upes-blogId-115945 \n",
      "\n",
      "🔍 Query: Is there a dress code at UPES?\n",
      "🧠 Answer: **Student asked: Is there a dress code at UPES?**\n",
      "\n",
      "As of now, the provided content does not specify any dress code for students at University of Petroleum and Energy Studies (UPES). For the most accurate and up-to-date information, it's best to check the official student handbook or contact the UPES administration directly.\n",
      "🔗 Source: https://learnerhunt.co/colleges/university-of-petroleum-and-energy-studies \n",
      "\n"
     ]
    }
   ],
   "source": [
    "for q in [\n",
    "    \"Does UPES offer a B.Tech in Artificial Intelligence?\",\n",
    "    \"What is the highest placement offered in UPES CSE?\",\n",
    "    \"Are there any cultural fests in UPES?\",\n",
    "    \"What are the hostel facilities like at UPES Kandoli campus?\",\n",
    "    \"Is there a dress code at UPES?\"\n",
    "]:\n",
    "    print(\"🔍 Query:\", q)\n",
    "    best = search_and_rank(q)\n",
    "    if best:\n",
    "        content = fetch_main_content(best['url'])\n",
    "        summary = summarize_with_openrouter(q, content)\n",
    "        print(\"🧠 Answer:\", summary)\n",
    "        print(\"🔗 Source:\", best[\"url\"], \"\\n\")\n",
    "    else:\n",
    "        print(\"⚠️ No match found.\\n\")\n",
    "\n"
   ]
  },
  {
   "cell_type": "code",
   "execution_count": 38,
   "id": "eb2fbfe2",
   "metadata": {},
   "outputs": [
    {
     "name": "stdout",
     "output_type": "stream",
     "text": [
      "🔑 API Key Starts With: sk-or-v1-6\n"
     ]
    }
   ],
   "source": [
    "print(\"🔑 API Key Starts With:\", OPENROUTER_API_KEY[:10])\n"
   ]
  },
  {
   "cell_type": "markdown",
   "id": "2d1d61e7",
   "metadata": {},
   "source": [
    "Need to tweek a ** bit** , like hows the delivery of the message and make sure th outpupt is a bit more empthatic and understoodable."
   ]
  },
  {
   "cell_type": "code",
   "execution_count": null,
   "id": "3a1838a7",
   "metadata": {},
   "outputs": [
    {
     "name": "stdout",
     "output_type": "stream",
     "text": [
      "Requirement already satisfied: gTTS in c:\\users\\himanshu\\appdata\\local\\programs\\python\\python312\\lib\\site-packages (2.5.4)\n",
      "Collecting playsound\n",
      "  Downloading playsound-1.3.0.tar.gz (7.7 kB)\n",
      "  Installing build dependencies: started\n",
      "  Installing build dependencies: finished with status 'done'\n",
      "  Getting requirements to build wheel: started\n",
      "  Getting requirements to build wheel: finished with status 'error'\n"
     ]
    },
    {
     "name": "stderr",
     "output_type": "stream",
     "text": [
      "  error: subprocess-exited-with-error\n",
      "  \n",
      "  × Getting requirements to build wheel did not run successfully.\n",
      "  │ exit code: 1\n",
      "  ╰─> [28 lines of output]\n",
      "      Traceback (most recent call last):\n",
      "        File \"C:\\Users\\Himanshu\\AppData\\Local\\Programs\\Python\\Python312\\Lib\\site-packages\\pip\\_vendor\\pyproject_hooks\\_in_process\\_in_process.py\", line 389, in <module>\n",
      "          main()\n",
      "        File \"C:\\Users\\Himanshu\\AppData\\Local\\Programs\\Python\\Python312\\Lib\\site-packages\\pip\\_vendor\\pyproject_hooks\\_in_process\\_in_process.py\", line 373, in main\n",
      "          json_out[\"return_val\"] = hook(**hook_input[\"kwargs\"])\n",
      "                                   ^^^^^^^^^^^^^^^^^^^^^^^^^^^^\n",
      "        File \"C:\\Users\\Himanshu\\AppData\\Local\\Programs\\Python\\Python312\\Lib\\site-packages\\pip\\_vendor\\pyproject_hooks\\_in_process\\_in_process.py\", line 143, in get_requires_for_build_wheel\n",
      "          return hook(config_settings)\n",
      "                 ^^^^^^^^^^^^^^^^^^^^^\n",
      "        File \"C:\\Users\\Himanshu\\AppData\\Local\\Temp\\pip-build-env-02ot63ai\\overlay\\Lib\\site-packages\\setuptools\\build_meta.py\", line 331, in get_requires_for_build_wheel\n",
      "          return self._get_build_requires(config_settings, requirements=[])\n",
      "                 ^^^^^^^^^^^^^^^^^^^^^^^^^^^^^^^^^^^^^^^^^^^^^^^^^^^^^^^^^^\n",
      "        File \"C:\\Users\\Himanshu\\AppData\\Local\\Temp\\pip-build-env-02ot63ai\\overlay\\Lib\\site-packages\\setuptools\\build_meta.py\", line 301, in _get_build_requires\n",
      "          self.run_setup()\n",
      "        File \"C:\\Users\\Himanshu\\AppData\\Local\\Temp\\pip-build-env-02ot63ai\\overlay\\Lib\\site-packages\\setuptools\\build_meta.py\", line 512, in run_setup\n",
      "          super().run_setup(setup_script=setup_script)\n",
      "        File \"C:\\Users\\Himanshu\\AppData\\Local\\Temp\\pip-build-env-02ot63ai\\overlay\\Lib\\site-packages\\setuptools\\build_meta.py\", line 317, in run_setup\n",
      "          exec(code, locals())\n",
      "        File \"<string>\", line 6, in <module>\n",
      "        File \"C:\\Users\\Himanshu\\AppData\\Local\\Programs\\Python\\Python312\\Lib\\inspect.py\", line 1285, in getsource\n",
      "          lines, lnum = getsourcelines(object)\n",
      "                        ^^^^^^^^^^^^^^^^^^^^^^\n",
      "        File \"C:\\Users\\Himanshu\\AppData\\Local\\Programs\\Python\\Python312\\Lib\\inspect.py\", line 1267, in getsourcelines\n",
      "          lines, lnum = findsource(object)\n",
      "                        ^^^^^^^^^^^^^^^^^^\n",
      "        File \"C:\\Users\\Himanshu\\AppData\\Local\\Programs\\Python\\Python312\\Lib\\inspect.py\", line 1096, in findsource\n",
      "          raise OSError('could not get source code')\n",
      "      OSError: could not get source code\n",
      "      [end of output]\n",
      "  \n",
      "  note: This error originates from a subprocess, and is likely not a problem with pip.\n",
      "error: subprocess-exited-with-error\n",
      "\n",
      "× Getting requirements to build wheel did not run successfully.\n",
      "│ exit code: 1\n",
      "╰─> See above for output.\n",
      "\n",
      "note: This error originates from a subprocess, and is likely not a problem with pip.\n"
     ]
    }
   ],
   "source": [
    "!pip install SpeechRecognition pyttsx3 pyaudio --quiet\n",
    "\n",
    "\n"
   ]
  },
  {
   "cell_type": "code",
   "execution_count": 52,
   "id": "f535b5ca",
   "metadata": {},
   "outputs": [
    {
     "name": "stdout",
     "output_type": "stream",
     "text": [
      "Requirement already satisfied: gTTS in c:\\users\\himanshu\\appdata\\local\\programs\\python\\python312\\lib\\site-packages (2.5.4)\n",
      "Collecting playsound==1.2.2\n",
      "  Downloading playsound-1.2.2-py2.py3-none-any.whl.metadata (3.3 kB)\n",
      "Requirement already satisfied: requests<3,>=2.27 in c:\\users\\himanshu\\appdata\\local\\programs\\python\\python312\\lib\\site-packages (from gTTS) (2.32.4)\n",
      "Requirement already satisfied: click<8.2,>=7.1 in c:\\users\\himanshu\\appdata\\local\\programs\\python\\python312\\lib\\site-packages (from gTTS) (8.1.8)\n",
      "Requirement already satisfied: colorama in c:\\users\\himanshu\\appdata\\roaming\\python\\python312\\site-packages (from click<8.2,>=7.1->gTTS) (0.4.6)\n",
      "Requirement already satisfied: charset_normalizer<4,>=2 in c:\\users\\himanshu\\appdata\\local\\programs\\python\\python312\\lib\\site-packages (from requests<3,>=2.27->gTTS) (3.4.2)\n",
      "Requirement already satisfied: idna<4,>=2.5 in c:\\users\\himanshu\\appdata\\local\\programs\\python\\python312\\lib\\site-packages (from requests<3,>=2.27->gTTS) (3.10)\n",
      "Requirement already satisfied: urllib3<3,>=1.21.1 in c:\\users\\himanshu\\appdata\\local\\programs\\python\\python312\\lib\\site-packages (from requests<3,>=2.27->gTTS) (2.4.0)\n",
      "Requirement already satisfied: certifi>=2017.4.17 in c:\\users\\himanshu\\appdata\\local\\programs\\python\\python312\\lib\\site-packages (from requests<3,>=2.27->gTTS) (2025.6.15)\n",
      "Downloading playsound-1.2.2-py2.py3-none-any.whl (6.0 kB)\n",
      "Installing collected packages: playsound\n",
      "Successfully installed playsound-1.2.2\n"
     ]
    }
   ],
   "source": [
    "!pip install gTTS playsound==1.2.2\n"
   ]
  },
  {
   "cell_type": "code",
   "execution_count": 53,
   "id": "e8efae2e",
   "metadata": {},
   "outputs": [],
   "source": [
    "import speech_recognition as sr\n",
    "\n",
    "def capture_voice_input():\n",
    "    recognizer = sr.Recognizer()\n",
    "    with sr.Microphone() as source:\n",
    "        print(\"🎤 Speak your question (up to 15 seconds)...\")\n",
    "        audio = recognizer.listen(source, timeout=5, phrase_time_limit=15)\n",
    "\n",
    "    try:\n",
    "        text = recognizer.recognize_google(audio)\n",
    "        print(\"📝 You said:\", text)\n",
    "        return text\n",
    "    except sr.UnknownValueError:\n",
    "        return \"Sorry, I didn't catch that.\"\n",
    "    except sr.RequestError as e:\n",
    "        return f\"Google Speech error: {e}\"\n",
    "\n"
   ]
  },
  {
   "cell_type": "code",
   "execution_count": 62,
   "id": "70eb651b",
   "metadata": {},
   "outputs": [],
   "source": [
    "from gtts import gTTS\n",
    "from playsound import playsound\n",
    "import os\n",
    "import uuid\n",
    "\n",
    "def speak(text):\n",
    "    filename = f\"temp_audio_{uuid.uuid4().hex[:8]}.mp3\"\n",
    "    tts = gTTS(text)\n",
    "    tts.save(filename)\n",
    "    playsound(filename)\n",
    "    os.remove(filename)\n",
    "\n",
    "\n"
   ]
  },
  {
   "cell_type": "code",
   "execution_count": 63,
   "id": "ed2e38a5",
   "metadata": {},
   "outputs": [],
   "source": [
    "def get_answer(query):\n",
    "    best = search_and_rank(query)\n",
    "    if not best:\n",
    "        return \"Sorry, I couldn't find anything useful.\"\n",
    "    \n",
    "    content = fetch_main_content(best['url'])\n",
    "    return summarize_with_openrouter(query, content)\n"
   ]
  },
  {
   "cell_type": "code",
   "execution_count": 64,
   "id": "9626f297",
   "metadata": {},
   "outputs": [],
   "source": [
    "def voice_chat():\n",
    "    query = capture_voice_input()\n",
    "    if \"sorry\" in query.lower():\n",
    "        speak(\"I didn't understand that.\")\n",
    "        return\n",
    "\n",
    "    print(\"🔍 Querying...\")\n",
    "    answer = get_answer(query)\n",
    "\n",
    "    print(\"\\n🧠 Answer:\", answer)\n",
    "    speak(answer)\n"
   ]
  },
  {
   "cell_type": "code",
   "execution_count": 65,
   "id": "59f591a5",
   "metadata": {},
   "outputs": [
    {
     "name": "stdout",
     "output_type": "stream",
     "text": [
      "🎤 Speak your question (up to 15 seconds)...\n",
      "📝 You said: what are the hostel facilities in upes\n",
      "🔍 Querying...\n",
      "\n",
      "🧠 Answer: UPES offers well-maintained hostel facilities for students, available on both the Bidholi and Kandoli campuses. Here are the key points:\n",
      "\n",
      "- Rooms are clean, comfortable, and air-conditioned, with the option for triple sharing.\n",
      "- Separate hostel blocks are available for boys and girls.\n",
      "- There's access to a sports field, common areas, and Wi-Fi.\n",
      "- Hostel fees range from INR 1,46,000 to INR 2,10,000, depending on the type of room.\n",
      "- A refundable security deposit of INR 20,000 is required.\n",
      "- Hostels have 24-hour elevator facilities, CCTV cameras, and daily cleaning services.\n",
      "- There are sanitization measures in place, along with hygienic laundry services.\n",
      "- Medical assistance is available 24/7, with a residential doctor and medical assistant on-site.\n",
      "- Mess facilities provide all three meals and evening snacks.\n",
      "- Hostel access is controlled with no visitors allowed, and parents have restricted visits.\n",
      "- Medical protocols include self-isolation or quarantine if needed, with in-house and tele-medical specialist consultations available.\n"
     ]
    }
   ],
   "source": [
    "voice_chat()\n"
   ]
  },
  {
   "cell_type": "code",
   "execution_count": null,
   "id": "d1e38006",
   "metadata": {},
   "outputs": [],
   "source": []
  },
  {
   "cell_type": "code",
   "execution_count": null,
   "id": "6b298d9c",
   "metadata": {},
   "outputs": [],
   "source": []
  }
 ],
 "metadata": {
  "kernelspec": {
   "display_name": "Python 3",
   "language": "python",
   "name": "python3"
  },
  "language_info": {
   "codemirror_mode": {
    "name": "ipython",
    "version": 3
   },
   "file_extension": ".py",
   "mimetype": "text/x-python",
   "name": "python",
   "nbconvert_exporter": "python",
   "pygments_lexer": "ipython3",
   "version": "3.12.8"
  }
 },
 "nbformat": 4,
 "nbformat_minor": 5
}
